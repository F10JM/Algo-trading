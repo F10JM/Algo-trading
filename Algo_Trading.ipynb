{
 "cells": [
  {
   "cell_type": "code",
   "execution_count": 1,
   "id": "94edcc66",
   "metadata": {},
   "outputs": [],
   "source": [
    "import pandas as pd\n",
    "import pandas_ta as ta\n",
    "import yfinance as yf\n",
    "from lightweight_charts import Chart\n",
    "import alpaca_trade_api as tradeapi"
   ]
  },
  {
   "cell_type": "code",
   "execution_count": 2,
   "id": "7ab1887c",
   "metadata": {},
   "outputs": [],
   "source": [
    "APCA_API_KEY_ID = \"PKM83SCG7GK5OHPJKEEM\"\n",
    "APCA_API_SECRET_KEY = \"EWs4qDxigKmPakY97ccqPdS3GPLhnxd8F017Hrid\"\n",
    "APCA_API_BASE_URL = \"https://paper-api.alpaca.markets\"  \n",
    "api = tradeapi.REST(APCA_API_KEY_ID, APCA_API_SECRET_KEY, base_url=APCA_API_BASE_URL)"
   ]
  },
  {
   "cell_type": "code",
   "execution_count": 3,
   "id": "a75fc27c",
   "metadata": {},
   "outputs": [],
   "source": [
    "def get_bar_data(symbol, timeframe):\n",
    "    start_date = \"2023-11-01\"\n",
    "    end_date = \"2023-11-09\"\n",
    "    bars = api.get_bars(symbol, timeframe, start=start_date, end=end_date).df.reset_index()\n",
    "    bars['timestamp'] = bars['timestamp'].dt.strftime('%Y-%m-%dT%H:%M:%S.000Z')\n",
    "    bars.rename(columns={\n",
    "        'timestamp': 'time',\n",
    "        'open': 'open',\n",
    "        'high': 'high',\n",
    "        'low': 'low',\n",
    "        'close': 'close',\n",
    "        'volume': 'volume'\n",
    "    }, inplace=True)\n",
    "    bars.columns = bars.columns.str.lower()\n",
    "    return bars"
   ]
  },
  {
   "cell_type": "code",
   "execution_count": 4,
   "id": "9bb13e1b",
   "metadata": {},
   "outputs": [
    {
     "ename": "RuntimeError",
     "evalue": "asyncio.run() cannot be called from a running event loop",
     "output_type": "error",
     "traceback": [
      "\u001b[1;31m---------------------------------------------------------------------------\u001b[0m",
      "\u001b[1;31mRuntimeError\u001b[0m                              Traceback (most recent call last)",
      "Cell \u001b[1;32mIn[4], line 19\u001b[0m\n\u001b[0;32m     15\u001b[0m df \u001b[38;5;241m=\u001b[39m get_bar_data(\u001b[38;5;124m'\u001b[39m\u001b[38;5;124mTSLA\u001b[39m\u001b[38;5;124m'\u001b[39m, \u001b[38;5;124m'\u001b[39m\u001b[38;5;124m5min\u001b[39m\u001b[38;5;124m'\u001b[39m)\n\u001b[0;32m     16\u001b[0m chart\u001b[38;5;241m.\u001b[39mset(df)\n\u001b[1;32m---> 19\u001b[0m chart\u001b[38;5;241m.\u001b[39mshow(block\u001b[38;5;241m=\u001b[39m\u001b[38;5;28;01mTrue\u001b[39;00m)\n",
      "File \u001b[1;32m~\\anaconda3\\Lib\\site-packages\\lightweight_charts\\chart.py:112\u001b[0m, in \u001b[0;36mChart.show\u001b[1;34m(self, block)\u001b[0m\n\u001b[0;32m    110\u001b[0m     \u001b[38;5;28mself\u001b[39m\u001b[38;5;241m.\u001b[39m_q\u001b[38;5;241m.\u001b[39mput((\u001b[38;5;28mself\u001b[39m\u001b[38;5;241m.\u001b[39m_i, \u001b[38;5;124m'\u001b[39m\u001b[38;5;124mshow\u001b[39m\u001b[38;5;124m'\u001b[39m))\n\u001b[0;32m    111\u001b[0m \u001b[38;5;28;01mif\u001b[39;00m block:\n\u001b[1;32m--> 112\u001b[0m     asyncio\u001b[38;5;241m.\u001b[39mrun(\u001b[38;5;28mself\u001b[39m\u001b[38;5;241m.\u001b[39mshow_async(block\u001b[38;5;241m=\u001b[39m\u001b[38;5;28;01mTrue\u001b[39;00m))\n",
      "File \u001b[1;32m~\\anaconda3\\Lib\\asyncio\\runners.py:186\u001b[0m, in \u001b[0;36mrun\u001b[1;34m(main, debug)\u001b[0m\n\u001b[0;32m    161\u001b[0m \u001b[38;5;250m\u001b[39m\u001b[38;5;124;03m\"\"\"Execute the coroutine and return the result.\u001b[39;00m\n\u001b[0;32m    162\u001b[0m \n\u001b[0;32m    163\u001b[0m \u001b[38;5;124;03mThis function runs the passed coroutine, taking care of\u001b[39;00m\n\u001b[1;32m   (...)\u001b[0m\n\u001b[0;32m    182\u001b[0m \u001b[38;5;124;03m    asyncio.run(main())\u001b[39;00m\n\u001b[0;32m    183\u001b[0m \u001b[38;5;124;03m\"\"\"\u001b[39;00m\n\u001b[0;32m    184\u001b[0m \u001b[38;5;28;01mif\u001b[39;00m events\u001b[38;5;241m.\u001b[39m_get_running_loop() \u001b[38;5;129;01mis\u001b[39;00m \u001b[38;5;129;01mnot\u001b[39;00m \u001b[38;5;28;01mNone\u001b[39;00m:\n\u001b[0;32m    185\u001b[0m     \u001b[38;5;66;03m# fail fast with short traceback\u001b[39;00m\n\u001b[1;32m--> 186\u001b[0m     \u001b[38;5;28;01mraise\u001b[39;00m \u001b[38;5;167;01mRuntimeError\u001b[39;00m(\n\u001b[0;32m    187\u001b[0m         \u001b[38;5;124m\"\u001b[39m\u001b[38;5;124masyncio.run() cannot be called from a running event loop\u001b[39m\u001b[38;5;124m\"\u001b[39m)\n\u001b[0;32m    189\u001b[0m \u001b[38;5;28;01mwith\u001b[39;00m Runner(debug\u001b[38;5;241m=\u001b[39mdebug) \u001b[38;5;28;01mas\u001b[39;00m runner:\n\u001b[0;32m    190\u001b[0m     \u001b[38;5;28;01mreturn\u001b[39;00m runner\u001b[38;5;241m.\u001b[39mrun(main)\n",
      "\u001b[1;31mRuntimeError\u001b[0m: asyncio.run() cannot be called from a running event loop"
     ]
    }
   ],
   "source": [
    "def on_timeframe_selection(chart):  # Called when the user changes the timeframe.\n",
    "    new_data = get_bar_data(chart.topbar['symbol'].value, chart.topbar['timeframe'].value)\n",
    "    if new_data.empty:\n",
    "        return\n",
    "    chart.set(new_data, True)\n",
    "\n",
    "chart = Chart(toolbox=True)\n",
    "chart.legend(True)\n",
    "\n",
    "\n",
    "chart.topbar.textbox('symbol', 'TSLA')\n",
    "chart.topbar.switcher('timeframe', ('1min', '5min', '30min'), default='5min',\n",
    "                      func=on_timeframe_selection)\n",
    "\n",
    "df = get_bar_data('TSLA', '5min')\n",
    "chart.set(df)\n",
    "\n",
    "\n",
    "chart.show(block=True)"
   ]
  },
  {
   "cell_type": "code",
   "execution_count": null,
   "id": "9857f1bb",
   "metadata": {},
   "outputs": [],
   "source": [
    "# Define the ticker, timeframe, start, and end dates\n",
    "ticker = \"AAPL\"\n",
    "timeframe = \"1Min\"  # Possible values: '1Min', '5Min', '15Min', '1H', '1D'\n",
    "start_date = \"2023-11-01\"\n",
    "end_date = \"2023-11-09\"\n",
    "\n",
    "# Fetch historical data\n",
    "bars = api.get_bars(ticker, timeframe, start=start_date, end=end_date).df\n",
    "df=bars\n",
    "# The result is already a pandas DataFrame\n",
    "df"
   ]
  },
  {
   "cell_type": "code",
   "execution_count": null,
   "id": "787ce34a",
   "metadata": {},
   "outputs": [],
   "source": [
    "bars.reset_index(inplace=True)\n",
    "bars['timestamp'] = pd.to_datetime(bars['timestamp'], unit='s').dt.strftime('%Y-%m-%dT%H:%M:%S.000Z')\n",
    "bars.rename(columns={\n",
    "    'timestamp': 'time',\n",
    "    'open': 'open',\n",
    "    'high': 'high',\n",
    "    'low': 'low',\n",
    "    'close': 'close',\n",
    "    'volume': 'volume'\n",
    "}, inplace=True)\n",
    "bars.columns = bars.columns.str.lower()\n"
   ]
  },
  {
   "cell_type": "code",
   "execution_count": null,
   "id": "fcab5541",
   "metadata": {},
   "outputs": [],
   "source": [
    "#line = chart.create_line()    \n",
    "#line.set(sma)\n"
   ]
  },
  {
   "cell_type": "code",
   "execution_count": null,
   "id": "0ca02011",
   "metadata": {},
   "outputs": [],
   "source": [
    "chart = Chart()\n",
    "chart.set(bars)\n",
    "chart.watermark(ticker)\n",
    "chart.show(block=True)"
   ]
  }
 ],
 "metadata": {
  "kernelspec": {
   "display_name": "Python 3 (ipykernel)",
   "language": "python",
   "name": "python3"
  },
  "language_info": {
   "codemirror_mode": {
    "name": "ipython",
    "version": 3
   },
   "file_extension": ".py",
   "mimetype": "text/x-python",
   "name": "python",
   "nbconvert_exporter": "python",
   "pygments_lexer": "ipython3",
   "version": "3.11.5"
  }
 },
 "nbformat": 4,
 "nbformat_minor": 5
}
