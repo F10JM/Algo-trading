{
  "cells": [
    {
      "cell_type": "markdown",
      "metadata": {
        "id": "view-in-github",
        "colab_type": "text"
      },
      "source": [
        "<a href=\"https://colab.research.google.com/github/F10JM/Algo-trading/blob/main/Copy_of_3_Training_and_Detection.ipynb\" target=\"_parent\"><img src=\"https://colab.research.google.com/assets/colab-badge.svg\" alt=\"Open In Colab\"/></a>"
      ]
    },
    {
      "cell_type": "markdown",
      "metadata": {
        "id": "-SysBzb0FNv-"
      },
      "source": [
        "# 1. Setup & Install"
      ]
    },
    {
      "cell_type": "code",
      "execution_count": null,
      "metadata": {
        "id": "DuFhIpW8FNv-"
      },
      "outputs": [],
      "source": [
        "!pip install opencv-python"
      ]
    },
    {
      "cell_type": "code",
      "execution_count": null,
      "metadata": {
        "id": "BWPAgsd6FNv_"
      },
      "outputs": [],
      "source": [
        "# Import opencv\n",
        "import cv2\n",
        "\n",
        "# Import uuid\n",
        "import uuid\n",
        "\n",
        "# Import Operating System\n",
        "import os\n",
        "\n",
        "# Import time\n",
        "import time"
      ]
    },
    {
      "cell_type": "code",
      "execution_count": null,
      "metadata": {
        "id": "Ww7pOC4XFNv_"
      },
      "outputs": [],
      "source": [
        "paths_images = {\n",
        "    'COLLECTED_IMAGES_PATH' : os.path.join('Tensorflow', 'workspace', 'images', 'collectedimages'),\n",
        "    'TRAIN_IMAGES_PATH' : os.path.join('Tensorflow', 'workspace', 'images', 'train'),\n",
        "    'TEST_IMAGES_PATH' : os.path.join('Tensorflow', 'workspace', 'images', 'test')\n",
        "}"
      ]
    },
    {
      "cell_type": "code",
      "execution_count": null,
      "metadata": {
        "id": "LvEqgKmpFNv_"
      },
      "outputs": [],
      "source": [
        "for path in paths_images.values():\n",
        "    if not os.path.exists(path):\n",
        "        if os.name == 'posix':\n",
        "            !mkdir -p {path}\n",
        "        if os.name == 'nt':\n",
        "            !mkdir {path}"
      ]
    },
    {
      "cell_type": "code",
      "execution_count": null,
      "metadata": {
        "id": "XstvhJ83FNv_"
      },
      "outputs": [],
      "source": [
        "CUSTOM_MODEL_NAME_LIST = [\n",
        "    'my_ssd_mobnet',\n",
        "    'centernet_hg104_512x512',\n",
        "    'centernet_hg104_1024x1024',\n",
        "    'centernet_resnet50_v1_fpn_512x512',\n",
        "    'centernet_resnet101_v1_fpn_512x512',\n",
        "    'centernet_resnet50_v2_512x512',\n",
        "    'centernet_mobilenetv2fpn_512x512',\n",
        "    'efficientdet_d0',\n",
        "    'efficientdet_d1',\n",
        "    'efficientdet_d2',\n",
        "    'efficientdet_d3',\n",
        "    'efficientdet_d4',\n",
        "    'efficientdet_d5',\n",
        "    'efficientdet_d6',\n",
        "    'efficientdet_d7',\n",
        "    'ssd_mobilenet_v2_320x320',\n",
        "    'ssd_mobilenet_v1_fpn_640x640',\n",
        "    'ssd_mobilenet_v2_fpnlite_320x320',\n",
        "    'ssd_mobilenet_v2_fpnlite_640x640',\n",
        "    'ssd_resnet50_v1_fpn_640x640',\n",
        "    'ssd_resnet50_v1_fpn_1024x1024',\n",
        "    'ssd_resnet101_v1_fpn_640x640',\n",
        "    'ssd_resnet101_v1_fpn_1024x1024',\n",
        "    'ssd_resnet152_v1_fpn_640x640',\n",
        "    'ssd_resnet152_v1_fpn_1024x1024',\n",
        "    'faster_rcnn_resnet50_v1_640x640',\n",
        "    'faster_rcnn_resnet50_v1_1024x1024',\n",
        "    'faster_rcnn_resnet50_v1_800x1333',\n",
        "    'faster_rcnn_resnet101_v1_640x640',\n",
        "    'faster_rcnn_resnet101_v1_1024x1024',\n",
        "    'faster_rcnn_resnet101_v1_800x1333',\n",
        "    'faster_rcnn_resnet152_v1_640x640',\n",
        "    'faster_rcnn_resnet152_v1_1024x1024',\n",
        "    'faster_rcnn_resnet152_v1_800x1333',\n",
        "    'faster_rcnn_inception_resnet_v2_640x640',\n",
        "    'faster_rcnn_inception_resnet_v2_1024x1024'\n",
        "]\n",
        "# for i in range(0,len(CUSTOM_MODEL_NAME_LIST)):\n",
        "#   print(f'{i}:{CUSTOM_MODEL_NAME_LIST[i]}')"
      ]
    },
    {
      "cell_type": "code",
      "execution_count": null,
      "metadata": {
        "id": "TAzXNfZlFNv_"
      },
      "outputs": [],
      "source": [
        "PRETRAINED_MODEL_NAME_LIST = [\n",
        "    'ssd_mobilenet_v2_fpnlite_320x320_coco17_tpu-8',\n",
        "    'centernet_hg104_512x512_coco17_tpu-8',\n",
        "    'centernet_hg104_1024x1024_coco17_tpu-32',\n",
        "    'centernet_resnet50_v1_fpn_512x512_coco17_tpu-8',\n",
        "    'centernet_resnet101_v1_fpn_512x512_coco17_tpu-8',\n",
        "    'centernet_resnet50_v2_512x512_coco17_tpu-8',\n",
        "    'centernet_mobilenetv2fpn_512x512_coco17_od',\n",
        "    'efficientdet_d0_coco17_tpu-32',\n",
        "    'efficientdet_d1_coco17_tpu-32',\n",
        "    'efficientdet_d2_coco17_tpu-32',\n",
        "    'efficientdet_d3_coco17_tpu-32',\n",
        "    'efficientdet_d4_coco17_tpu-32',\n",
        "    'efficientdet_d5_coco17_tpu-32',\n",
        "    'efficientdet_d6_coco17_tpu-32',\n",
        "    'efficientdet_d7_coco17_tpu-32',\n",
        "    'ssd_mobilenet_v2_320x320_coco17_tpu-8',\n",
        "    'ssd_mobilenet_v1_fpn_640x640_coco17_tpu-8',\n",
        "    'ssd_mobilenet_v2_fpnlite_320x320_coco17_tpu-8',\n",
        "    'ssd_mobilenet_v2_fpnlite_640x640_coco17_tpu-8',\n",
        "    'ssd_resnet50_v1_fpn_640x640_coco17_tpu-8',\n",
        "    'ssd_resnet50_v1_fpn_1024x1024_coco17_tpu-8',\n",
        "    'ssd_resnet101_v1_fpn_640x640_coco17_tpu-8',\n",
        "    'ssd_resnet101_v1_fpn_1024x1024_coco17_tpu-8',\n",
        "    'ssd_resnet152_v1_fpn_640x640_coco17_tpu-8',\n",
        "    'ssd_resnet152_v1_fpn_1024x1024_coco17_tpu-8',\n",
        "    'faster_rcnn_resnet50_v1_640x640_coco17_tpu-8',\n",
        "    'faster_rcnn_resnet50_v1_1024x1024_coco17_tpu-8',\n",
        "    'faster_rcnn_resnet50_v1_800x1333_coco17_gpu-8',\n",
        "    'faster_rcnn_resnet101_v1_640x640_coco17_tpu-8',\n",
        "    'faster_rcnn_resnet101_v1_1024x1024_coco17_tpu-8',\n",
        "    'faster_rcnn_resnet101_v1_800x1333_coco17_gpu-8',\n",
        "    'faster_rcnn_resnet152_v1_640x640_coco17_tpu-8',\n",
        "    'faster_rcnn_resnet152_v1_1024x1024_coco17_tpu-8',\n",
        "    'faster_rcnn_resnet152_v1_800x1333_coco17_gpu-8',\n",
        "    'faster_rcnn_inception_resnet_v2_640x640_coco17_tpu-8',\n",
        "    'faster_rcnn_inception_resnet_v2_1024x1024_coco17_tpu-8',\n",
        "]"
      ]
    },
    {
      "cell_type": "code",
      "execution_count": null,
      "metadata": {
        "id": "IlcoVkInFNv_"
      },
      "outputs": [],
      "source": [
        "PRETRAINED_MODEL_URL_LIST = [\n",
        "    'http://download.tensorflow.org/models/object_detection/tf2/20200711/ssd_mobilenet_v2_fpnlite_320x320_coco17_tpu-8.tar.gz',\n",
        "    'http://download.tensorflow.org/models/object_detection/tf2/20200713/centernet_hg104_512x512_coco17_tpu-8.tar.gz',\n",
        "    'http://download.tensorflow.org/models/object_detection/tf2/20200713/centernet_hg104_1024x1024_coco17_tpu-32.tar.gz',\n",
        "    'http://download.tensorflow.org/models/object_detection/tf2/20200711/centernet_resnet50_v1_fpn_512x512_coco17_tpu-8.tar.gz',\n",
        "    'http://download.tensorflow.org/models/object_detection/tf2/20200711/centernet_resnet101_v1_fpn_512x512_coco17_tpu-8.tar.gz',\n",
        "    'http://download.tensorflow.org/models/object_detection/tf2/20200711/centernet_resnet50_v2_512x512_coco17_tpu-8.tar.gz',\n",
        "    'http://download.tensorflow.org/models/object_detection/tf2/20210210/centernet_mobilenetv2fpn_512x512_coco17_od.tar.gz',\n",
        "    'http://download.tensorflow.org/models/object_detection/tf2/20200711/efficientdet_d0_coco17_tpu-32.tar.gz',\n",
        "    'http://download.tensorflow.org/models/object_detection/tf2/20200711/efficientdet_d1_coco17_tpu-32.tar.gz',\n",
        "    'http://download.tensorflow.org/models/object_detection/tf2/20200711/efficientdet_d2_coco17_tpu-32.tar.gz',\n",
        "    'http://download.tensorflow.org/models/object_detection/tf2/20200711/efficientdet_d3_coco17_tpu-32.tar.gz',\n",
        "    'http://download.tensorflow.org/models/object_detection/tf2/20200711/efficientdet_d4_coco17_tpu-32.tar.gz',\n",
        "    'http://download.tensorflow.org/models/object_detection/tf2/20200711/efficientdet_d5_coco17_tpu-32.tar.gz',\n",
        "    'http://download.tensorflow.org/models/object_detection/tf2/20200711/efficientdet_d6_coco17_tpu-32.tar.gz',\n",
        "    'http://download.tensorflow.org/models/object_detection/tf2/20200711/efficientdet_d7_coco17_tpu-32.tar.gz',\n",
        "    'http://download.tensorflow.org/models/object_detection/tf2/20200711/ssd_mobilenet_v2_320x320_coco17_tpu-8.tar.gz',\n",
        "    'http://download.tensorflow.org/models/object_detection/tf2/20200711/ssd_mobilenet_v1_fpn_640x640_coco17_tpu-8.tar.gz',\n",
        "    'http://download.tensorflow.org/models/object_detection/tf2/20200711/ssd_mobilenet_v2_fpnlite_320x320_coco17_tpu-8.tar.gz',\n",
        "    'http://download.tensorflow.org/models/object_detection/tf2/20200711/ssd_mobilenet_v2_fpnlite_640x640_coco17_tpu-8.tar.gz',\n",
        "    'http://download.tensorflow.org/models/object_detection/tf2/20200711/ssd_resnet50_v1_fpn_640x640_coco17_tpu-8.tar.gz',\n",
        "    'http://download.tensorflow.org/models/object_detection/tf2/20200711/ssd_resnet50_v1_fpn_1024x1024_coco17_tpu-8.tar.gz',\n",
        "    'http://download.tensorflow.org/models/object_detection/tf2/20200711/ssd_resnet101_v1_fpn_640x640_coco17_tpu-8.tar.gz',\n",
        "    'http://download.tensorflow.org/models/object_detection/tf2/20200711/ssd_resnet101_v1_fpn_1024x1024_coco17_tpu-8.tar.gz',\n",
        "    'http://download.tensorflow.org/models/object_detection/tf2/20200711/ssd_resnet152_v1_fpn_640x640_coco17_tpu-8.tar.gz',\n",
        "    'http://download.tensorflow.org/models/object_detection/tf2/20200711/ssd_resnet152_v1_fpn_1024x1024_coco17_tpu-8.tar.gz',\n",
        "    'http://download.tensorflow.org/models/object_detection/tf2/20200711/faster_rcnn_resnet50_v1_640x640_coco17_tpu-8.tar.gz',\n",
        "    'http://download.tensorflow.org/models/object_detection/tf2/20200711/faster_rcnn_resnet50_v1_1024x1024_coco17_tpu-8.tar.gz',\n",
        "    'http://download.tensorflow.org/models/object_detection/tf2/20200711/faster_rcnn_resnet50_v1_800x1333_coco17_gpu-8.tar.gz',\n",
        "    'http://download.tensorflow.org/models/object_detection/tf2/20200711/faster_rcnn_resnet101_v1_640x640_coco17_tpu-8.tar.gz',\n",
        "    'http://download.tensorflow.org/models/object_detection/tf2/20200711/faster_rcnn_resnet101_v1_1024x1024_coco17_tpu-8.tar.gz',\n",
        "    'http://download.tensorflow.org/models/object_detection/tf2/20200711/faster_rcnn_resnet101_v1_800x1333_coco17_gpu-8.tar.gz',\n",
        "    'http://download.tensorflow.org/models/object_detection/tf2/20200711/faster_rcnn_resnet152_v1_640x640_coco17_tpu-8.tar.gz',\n",
        "    'http://download.tensorflow.org/models/object_detection/tf2/20200711/faster_rcnn_resnet152_v1_1024x1024_coco17_tpu-8.tar.gz',\n",
        "    'http://download.tensorflow.org/models/object_detection/tf2/20200711/faster_rcnn_resnet152_v1_800x1333_coco17_gpu-8.tar.gz',\n",
        "    'http://download.tensorflow.org/models/object_detection/tf2/20200711/faster_rcnn_inception_resnet_v2_640x640_coco17_tpu-8.tar.gz',\n",
        "    'http://download.tensorflow.org/models/object_detection/tf2/20200711/faster_rcnn_inception_resnet_v2_1024x1024_coco17_tpu-8.tar.gz',\n",
        "]"
      ]
    },
    {
      "cell_type": "code",
      "execution_count": null,
      "metadata": {
        "id": "0qJelEGWFNv_"
      },
      "outputs": [],
      "source": [
        "i=35\n",
        "CUSTOM_MODEL_NAME =  CUSTOM_MODEL_NAME_LIST[i]\n",
        "PRETRAINED_MODEL_NAME = PRETRAINED_MODEL_NAME_LIST[i]\n",
        "PRETRAINED_MODEL_URL = PRETRAINED_MODEL_URL_LIST[i]\n",
        "TF_RECORD_SCRIPT_NAME = 'generate_tfrecord.py'\n",
        "LABEL_MAP_NAME = 'label_map.pbtxt'\n",
        "CUSTOM_MODEL_NAME"
      ]
    },
    {
      "cell_type": "code",
      "execution_count": null,
      "metadata": {
        "id": "p8hxwnjGFNwA"
      },
      "outputs": [],
      "source": [
        "paths = {\n",
        "    'WORKSPACE_PATH': os.path.join('Tensorflow', 'workspace'),\n",
        "    'SCRIPTS_PATH': os.path.join('Tensorflow','scripts'),\n",
        "    'APIMODEL_PATH': os.path.join('Tensorflow','models'),\n",
        "    'ANNOTATION_PATH': os.path.join('Tensorflow', 'workspace','annotations'),\n",
        "    'IMAGE_PATH': os.path.join('Tensorflow', 'workspace','images'),\n",
        "    'MODEL_PATH': os.path.join('Tensorflow', 'workspace','models'),\n",
        "    'PRETRAINED_MODEL_PATH': os.path.join('Tensorflow', 'workspace','pre-trained-models'),\n",
        "    'CHECKPOINT_PATH': os.path.join('Tensorflow', 'workspace','models',CUSTOM_MODEL_NAME),\n",
        "    'OUTPUT_PATH': os.path.join('Tensorflow', 'workspace','models',CUSTOM_MODEL_NAME, 'export'),\n",
        "    'TFJS_PATH':os.path.join('Tensorflow', 'workspace','models',CUSTOM_MODEL_NAME, 'tfjsexport'),\n",
        "    'TFLITE_PATH':os.path.join('Tensorflow', 'workspace','models',CUSTOM_MODEL_NAME, 'tfliteexport'),\n",
        "    'PROTOC_PATH':os.path.join('Tensorflow','protoc')\n",
        " }"
      ]
    },
    {
      "cell_type": "code",
      "execution_count": null,
      "metadata": {
        "id": "_FNEC8FKFNwA"
      },
      "outputs": [],
      "source": [
        "files = {\n",
        "    'PIPELINE_CONFIG':os.path.join('Tensorflow', 'workspace','models', CUSTOM_MODEL_NAME, 'pipeline.config'),\n",
        "    'TF_RECORD_SCRIPT': os.path.join(paths['SCRIPTS_PATH'], TF_RECORD_SCRIPT_NAME),\n",
        "    'LABELMAP': os.path.join(paths['ANNOTATION_PATH'], LABEL_MAP_NAME)\n",
        "}"
      ]
    },
    {
      "cell_type": "code",
      "execution_count": null,
      "metadata": {
        "id": "fbdR6YkXFNwA"
      },
      "outputs": [],
      "source": [
        "for path in paths.values():\n",
        "    if not os.path.exists(path):\n",
        "        if os.name == 'posix':\n",
        "            !mkdir -p {path}\n",
        "        if os.name == 'nt':\n",
        "            !mkdir {path}"
      ]
    },
    {
      "cell_type": "code",
      "execution_count": null,
      "metadata": {
        "id": "jbnrw7x3FNwA"
      },
      "outputs": [],
      "source": [
        "if os.name=='nt':\n",
        "    !pip install wget\n",
        "    import wget"
      ]
    },
    {
      "cell_type": "code",
      "execution_count": null,
      "metadata": {
        "id": "KYAPoRXhFNwA"
      },
      "outputs": [],
      "source": [
        "!pip install protobuf matplotlib"
      ]
    },
    {
      "cell_type": "code",
      "execution_count": null,
      "metadata": {
        "id": "6n3uLD9PFNwA"
      },
      "outputs": [],
      "source": [
        "!pip install pyyaml"
      ]
    },
    {
      "cell_type": "code",
      "execution_count": null,
      "metadata": {
        "id": "NhvAKd23FNwA"
      },
      "outputs": [],
      "source": [
        "if not os.path.exists(os.path.join(paths['APIMODEL_PATH'], 'research', 'object_detection')):\n",
        "    !git clone https://github.com/tensorflow/models {paths['APIMODEL_PATH']}"
      ]
    },
    {
      "cell_type": "code",
      "execution_count": null,
      "metadata": {
        "id": "N1tPWAROFNwA"
      },
      "outputs": [],
      "source": [
        "# Install Tensorflow Object Detection\n",
        "if os.name=='posix':\n",
        "    !apt-get install protobuf-compiler\n",
        "    !cd Tensorflow/models/research && protoc object_detection/protos/*.proto --python_out=. && cp object_detection/packages/tf2/setup.py . && python -m pip install .\n",
        "\n",
        "if os.name=='nt':\n",
        "    url=\"https://github.com/protocolbuffers/protobuf/releases/download/v3.15.6/protoc-3.15.6-win64.zip\"\n",
        "    wget.download(url)\n",
        "    !move protoc-3.15.6-win64.zip {paths['PROTOC_PATH']}\n",
        "    !cd {paths['PROTOC_PATH']} && tar -xf protoc-3.15.6-win64.zip\n",
        "    os.environ['PATH'] += os.pathsep + os.path.abspath(os.path.join(paths['PROTOC_PATH'], 'bin'))\n",
        "    !cd Tensorflow/models/research && protoc object_detection/protos/*.proto --python_out=. && copy object_detection\\\\packages\\\\tf2\\\\setup.py setup.py && python setup.py build && python setup.py install\n",
        "    !cd Tensorflow/models/research/slim && pip install -e ."
      ]
    },
    {
      "cell_type": "code",
      "execution_count": null,
      "metadata": {
        "id": "t_BreEW1FNwA"
      },
      "outputs": [],
      "source": [
        "!pip uninstall tensorflow -y\n",
        "!pip install tensorflow==2.13"
      ]
    },
    {
      "cell_type": "code",
      "execution_count": null,
      "metadata": {
        "id": "sL3SOaE9FNwA"
      },
      "outputs": [],
      "source": [
        "VERIFICATION_SCRIPT = os.path.join(paths['APIMODEL_PATH'], 'research', 'object_detection', 'builders', 'model_builder_tf2_test.py')\n",
        "# Verify Installation\n",
        "!python {VERIFICATION_SCRIPT}"
      ]
    },
    {
      "cell_type": "code",
      "execution_count": null,
      "metadata": {
        "id": "p5_D8YiAFNwA"
      },
      "outputs": [],
      "source": [
        "import object_detection"
      ]
    },
    {
      "cell_type": "code",
      "execution_count": null,
      "metadata": {
        "id": "csofht2npfDE"
      },
      "outputs": [],
      "source": [
        "if os.name =='posix':\n",
        "    !wget {PRETRAINED_MODEL_URL}\n",
        "    !mv {PRETRAINED_MODEL_NAME+'.tar.gz'} {paths['PRETRAINED_MODEL_PATH']}\n",
        "    !cd {paths['PRETRAINED_MODEL_PATH']} && tar -zxvf {PRETRAINED_MODEL_NAME+'.tar.gz'}\n",
        "if os.name == 'nt':\n",
        "    wget.download(PRETRAINED_MODEL_URL)\n",
        "    !move {PRETRAINED_MODEL_NAME+'.tar.gz'} {paths['PRETRAINED_MODEL_PATH']}\n",
        "    !cd {paths['PRETRAINED_MODEL_PATH']} && tar -zxvf {PRETRAINED_MODEL_NAME+'.tar.gz'}"
      ]
    },
    {
      "cell_type": "markdown",
      "metadata": {
        "id": "M5KJTnkfpfDC"
      },
      "source": [
        "# 2. Create Label Map"
      ]
    },
    {
      "cell_type": "code",
      "execution_count": null,
      "metadata": {
        "id": "p1BVDWo7pfDC"
      },
      "outputs": [],
      "source": [
        "labels = [{'name':'ball', 'id':1}, {'name':'goalkeeper', 'id':2},{'name':'player', 'id':3},{'name':'referee', 'id':4}]\n",
        "\n",
        "with open(files['LABELMAP'], 'w') as f:\n",
        "    for label in labels:\n",
        "        f.write('item { \\n')\n",
        "        f.write('\\tname:\\'{}\\'\\n'.format(label['name']))\n",
        "        f.write('\\tid:{}\\n'.format(label['id']))\n",
        "        f.write('}\\n')"
      ]
    },
    {
      "cell_type": "code",
      "execution_count": null,
      "metadata": {
        "id": "QRasiVJLCOqh"
      },
      "outputs": [],
      "source": [
        "import tensorflow as tf\n",
        "\n",
        "# Check TensorFlow version\n",
        "print(\"TensorFlow version:\", tf.__version__)\n",
        "\n",
        "# Check available GPU devices\n",
        "print(\"Available GPU devices:\", tf.config.list_physical_devices('GPU'))"
      ]
    },
    {
      "cell_type": "code",
      "execution_count": null,
      "metadata": {
        "id": "SHLeb6pvJNAb"
      },
      "outputs": [],
      "source": [
        "# import shutil\n",
        "\n",
        "# folder_path = '/content/Tensorflow/workspace/models/faster_rcnn_inception_resnet_v2_1024x1024'\n",
        "\n",
        "# # Remove the folder\n",
        "# shutil.rmtree(folder_path)"
      ]
    },
    {
      "cell_type": "code",
      "execution_count": null,
      "metadata": {
        "id": "zh3jLw8Hc4Ct"
      },
      "outputs": [],
      "source": [
        "import os\n",
        "import xml.etree.ElementTree as ET\n",
        "\n",
        "def delete_invalid_files(directory):\n",
        "    for filename in os.listdir(directory):\n",
        "        if not filename.endswith('.xml'):\n",
        "            continue\n",
        "\n",
        "        xml_path = os.path.join(directory, filename)\n",
        "        tree = ET.parse(xml_path)\n",
        "        root = tree.getroot()\n",
        "\n",
        "        # Get image size from XML\n",
        "        size = root.find('size')\n",
        "        width = int(size.find('width').text)\n",
        "        height = int(size.find('height').text)\n",
        "\n",
        "        # Assume the file is valid until proven otherwise\n",
        "        file_valid = True\n",
        "\n",
        "        # Check each object's bounding box\n",
        "        for obj in root.iter('object'):\n",
        "            bndbox = obj.find('bndbox')\n",
        "            xmin = int(bndbox.find('xmin').text)\n",
        "            ymin = int(bndbox.find('ymin').text)\n",
        "            xmax = int(bndbox.find('xmax').text)\n",
        "            ymax = int(bndbox.find('ymax').text)\n",
        "\n",
        "            if (xmin < 0 or ymin < 0 or xmax > width or ymax > height or\n",
        "                xmax < xmin or ymax < ymin):\n",
        "                file_valid = False\n",
        "                break\n",
        "\n",
        "        if not file_valid:\n",
        "            # Delete the XML file\n",
        "            os.remove(xml_path)\n",
        "            print(f\"Deleted XML: {xml_path}\")\n",
        "\n",
        "            # Construct image file name from XML file name\n",
        "            image_file_base = filename[:-4]  # remove the '.xml' extension\n",
        "            for ext in ['.png', '.jpg', '.jpeg']:\n",
        "                image_path = os.path.join(directory, image_file_base + ext)\n",
        "                if os.path.exists(image_path):\n",
        "                    # Delete the image file\n",
        "                    os.remove(image_path)\n",
        "                    print(f\"Deleted image: {image_path}\")\n",
        "                    break\n",
        "\n",
        "# Call the function with your directory of XML files\n",
        "delete_invalid_files('/content/Tensorflow/workspace/images/train')\n"
      ]
    },
    {
      "cell_type": "code",
      "execution_count": null,
      "metadata": {
        "id": "yDEloAOKesOY"
      },
      "outputs": [],
      "source": [
        "import xml.etree.ElementTree as ET\n",
        "\n",
        "def remove_occluded_from_xml(directory):\n",
        "    # Iterate over each file in the directory\n",
        "    for filename in os.listdir(directory):\n",
        "        if filename.endswith('.xml'):\n",
        "            file_path = os.path.join(directory, filename)\n",
        "            tree = ET.parse(file_path)\n",
        "            root = tree.getroot()\n",
        "\n",
        "            # Iterate over each object and remove the 'occluded' tag\n",
        "            for object_ in root.findall('object'):\n",
        "                occluded = object_.find('occluded')\n",
        "                if occluded is not None:\n",
        "                    object_.remove(occluded)\n",
        "\n",
        "            # Write the changes back to the same XML file\n",
        "            tree.write(file_path)\n",
        "\n",
        "# Example usage:\n",
        "xml_dir = '/content/Tensorflow/workspace/images/train'\n",
        "\n",
        "# Process the XML files\n",
        "remove_occluded_from_xml(xml_dir)\n"
      ]
    },
    {
      "cell_type": "markdown",
      "metadata": {
        "id": "C88zyVELpfDC"
      },
      "source": [
        "# 3. Create TF records"
      ]
    },
    {
      "cell_type": "code",
      "execution_count": null,
      "metadata": {
        "id": "kvf5WccwrFGq"
      },
      "outputs": [],
      "source": [
        "# OPTIONAL IF RUNNING ON COLAB\n",
        "ARCHIVE_FILES = os.path.join(paths['IMAGE_PATH'], 'archive2.tar.gz')\n",
        "if os.path.exists(ARCHIVE_FILES):\n",
        "  !tar -zxvf {ARCHIVE_FILES}"
      ]
    },
    {
      "cell_type": "code",
      "execution_count": null,
      "metadata": {
        "id": "KWpb_BVUpfDD"
      },
      "outputs": [],
      "source": [
        "if not os.path.exists(files['TF_RECORD_SCRIPT']):\n",
        "    !git clone https://github.com/nicknochnack/GenerateTFRecord {paths['SCRIPTS_PATH']}"
      ]
    },
    {
      "cell_type": "code",
      "execution_count": null,
      "metadata": {
        "id": "OvvhakoqFNwB"
      },
      "outputs": [],
      "source": [
        "!pip install pytz"
      ]
    },
    {
      "cell_type": "code",
      "execution_count": null,
      "metadata": {
        "id": "UPFToGZqpfDD"
      },
      "outputs": [],
      "source": [
        "!python {files['TF_RECORD_SCRIPT']} -x {os.path.join(paths['IMAGE_PATH'], 'train')} -l {files['LABELMAP']} -o {os.path.join(paths['ANNOTATION_PATH'], 'train.record')}\n",
        "!python {files['TF_RECORD_SCRIPT']} -x {os.path.join(paths['IMAGE_PATH'], 'test')} -l {files['LABELMAP']} -o {os.path.join(paths['ANNOTATION_PATH'], 'test.record')}"
      ]
    },
    {
      "cell_type": "markdown",
      "metadata": {
        "id": "qT4QU7pLpfDE"
      },
      "source": [
        "# 4. Copy Model Config to Training Folder"
      ]
    },
    {
      "cell_type": "code",
      "execution_count": null,
      "metadata": {
        "id": "cOjuTFbwpfDF"
      },
      "outputs": [],
      "source": [
        "if os.name =='posix':\n",
        "    !cp {os.path.join(paths['PRETRAINED_MODEL_PATH'], PRETRAINED_MODEL_NAME, 'pipeline.config')} {os.path.join(paths['CHECKPOINT_PATH'])}\n",
        "if os.name == 'nt':\n",
        "    !copy {os.path.join(paths['PRETRAINED_MODEL_PATH'], PRETRAINED_MODEL_NAME, 'pipeline.config')} {os.path.join(paths['CHECKPOINT_PATH'])}"
      ]
    },
    {
      "cell_type": "markdown",
      "metadata": {
        "id": "Ga8gpNslpfDF"
      },
      "source": [
        "# 5. Update Config For Transfer Learning"
      ]
    },
    {
      "cell_type": "code",
      "execution_count": null,
      "metadata": {
        "id": "Z9hRrO_ppfDF"
      },
      "outputs": [],
      "source": [
        "import tensorflow as tf\n",
        "from object_detection.utils import config_util\n",
        "from object_detection.protos import pipeline_pb2\n",
        "from google.protobuf import text_format"
      ]
    },
    {
      "cell_type": "code",
      "execution_count": null,
      "metadata": {
        "id": "c2A0mn4ipfDF"
      },
      "outputs": [],
      "source": [
        "config = config_util.get_configs_from_pipeline_file(files['PIPELINE_CONFIG'])"
      ]
    },
    {
      "cell_type": "code",
      "execution_count": null,
      "metadata": {
        "id": "9vK5lotDpfDF"
      },
      "outputs": [],
      "source": [
        "pipeline_config = pipeline_pb2.TrainEvalPipelineConfig()\n",
        "with tf.io.gfile.GFile(files['PIPELINE_CONFIG'], \"r\") as f:\n",
        "    proto_str = f.read()\n",
        "    text_format.Merge(proto_str, pipeline_config)"
      ]
    },
    {
      "cell_type": "code",
      "execution_count": null,
      "metadata": {
        "id": "rP43Ph0JpfDG"
      },
      "outputs": [],
      "source": [
        "pipeline_config.model.faster_rcnn.num_classes = len(labels)\n",
        "pipeline_config.train_config.batch_size = 4\n",
        "pipeline_config.train_config.fine_tune_checkpoint = os.path.join(paths['PRETRAINED_MODEL_PATH'], PRETRAINED_MODEL_NAME, 'checkpoint', 'ckpt-0')\n",
        "pipeline_config.train_config.fine_tune_checkpoint_type = \"detection\"\n",
        "pipeline_config.train_input_reader.label_map_path= files['LABELMAP']\n",
        "pipeline_config.train_input_reader.tf_record_input_reader.input_path[:] = [os.path.join(paths['ANNOTATION_PATH'], 'train.record')]\n",
        "pipeline_config.eval_input_reader[0].label_map_path = files['LABELMAP']\n",
        "pipeline_config.eval_input_reader[0].tf_record_input_reader.input_path[:] = [os.path.join(paths['ANNOTATION_PATH'], 'test.record')]"
      ]
    },
    {
      "cell_type": "code",
      "execution_count": null,
      "metadata": {
        "id": "oJvfgwWqpfDG"
      },
      "outputs": [],
      "source": [
        "config_text = text_format.MessageToString(pipeline_config)\n",
        "with tf.io.gfile.GFile(files['PIPELINE_CONFIG'], \"wb\") as f:\n",
        "    f.write(config_text)"
      ]
    },
    {
      "cell_type": "markdown",
      "metadata": {
        "id": "Zr3ON7xMpfDG"
      },
      "source": [
        "# 6. Train the model"
      ]
    },
    {
      "cell_type": "code",
      "execution_count": null,
      "metadata": {
        "id": "pP9p4-73FNwC"
      },
      "outputs": [],
      "source": [
        "!pip install gin-config"
      ]
    },
    {
      "cell_type": "code",
      "execution_count": null,
      "metadata": {
        "id": "B-Y2UQmQpfDG"
      },
      "outputs": [],
      "source": [
        "TRAINING_SCRIPT = os.path.join(paths['APIMODEL_PATH'], 'research', 'object_detection', 'model_main_tf2.py')"
      ]
    },
    {
      "cell_type": "code",
      "execution_count": null,
      "metadata": {
        "id": "jMP2XDfQpfDH"
      },
      "outputs": [],
      "source": [
        "command = \"python {} --model_dir={} --pipeline_config_path={} --num_train_steps=200\".format(TRAINING_SCRIPT, paths['CHECKPOINT_PATH'],files['PIPELINE_CONFIG'])"
      ]
    },
    {
      "cell_type": "code",
      "execution_count": null,
      "metadata": {
        "id": "A4OXXi-ApfDH"
      },
      "outputs": [],
      "source": [
        "print(command)"
      ]
    },
    {
      "cell_type": "code",
      "execution_count": null,
      "metadata": {
        "id": "1r5mrBg1FNwE"
      },
      "outputs": [],
      "source": [
        "!{command}"
      ]
    },
    {
      "cell_type": "code",
      "execution_count": null,
      "metadata": {
        "id": "dTVeb0eSJ-qn"
      },
      "outputs": [],
      "source": [
        "!apt-get install tensorrt\n",
        "!pip install nvidia-pyindex\n",
        "!pip install nvidia-tensorrt"
      ]
    },
    {
      "cell_type": "markdown",
      "metadata": {
        "id": "4_YRZu7npfDH"
      },
      "source": [
        "# 7. Evaluate the Model"
      ]
    },
    {
      "cell_type": "code",
      "execution_count": null,
      "metadata": {
        "id": "80L7-fdPpfDH"
      },
      "outputs": [],
      "source": [
        "command = \"python {} --model_dir={} --pipeline_config_path={} --checkpoint_dir={}\".format(TRAINING_SCRIPT, paths['CHECKPOINT_PATH'],files['PIPELINE_CONFIG'], paths['CHECKPOINT_PATH'])"
      ]
    },
    {
      "cell_type": "code",
      "execution_count": null,
      "metadata": {
        "id": "IWmluivjFNwE"
      },
      "outputs": [],
      "source": [
        "!{command}"
      ]
    },
    {
      "cell_type": "markdown",
      "metadata": {
        "id": "orvRk02UpfDI"
      },
      "source": [
        "# 8. Load Train Model From Checkpoint"
      ]
    },
    {
      "cell_type": "code",
      "execution_count": null,
      "metadata": {
        "id": "8TYk4_oIpfDI"
      },
      "outputs": [],
      "source": [
        "import os\n",
        "import tensorflow as tf\n",
        "from object_detection.utils import label_map_util\n",
        "from object_detection.utils import visualization_utils as viz_utils\n",
        "from object_detection.builders import model_builder\n",
        "from object_detection.utils import config_util"
      ]
    },
    {
      "cell_type": "code",
      "execution_count": null,
      "metadata": {
        "id": "9faDZkJsFNwE"
      },
      "outputs": [],
      "source": [
        "configs = config_util.get_configs_from_pipeline_file(files['PIPELINE_CONFIG'])\n",
        "detection_model = model_builder.build(model_config=configs['model'], is_training=False)\n",
        "\n",
        "# Restore checkpoint\n",
        "ckpt = tf.compat.v2.train.Checkpoint(model=detection_model)\n",
        "\n",
        "# Load the latest checkpoint\n",
        "latest_ckpt = tf.train.latest_checkpoint(paths['CHECKPOINT_PATH'])\n",
        "if latest_ckpt:\n",
        "    ckpt.restore(latest_ckpt).expect_partial()\n",
        "    print(f\"Checkpoint loaded: {latest_ckpt}\")\n",
        "else:\n",
        "    raise FileNotFoundError(\"No checkpoint found in\", paths['CHECKPOINT_PATH'])\n",
        "\n",
        "@tf.function\n",
        "def detect_fn(image):\n",
        "    image, shapes = detection_model.preprocess(image)\n",
        "    prediction_dict = detection_model.predict(image, shapes)\n",
        "    detections = detection_model.postprocess(prediction_dict, shapes)\n",
        "    return detections"
      ]
    },
    {
      "cell_type": "code",
      "execution_count": null,
      "metadata": {
        "id": "nV1VZXpkMLCj"
      },
      "outputs": [],
      "source": [
        "model='/content/Tensorflow/workspace/pre-trained-models/faster_rcnn_inception_resnet_v2_1024x1024_coco17_tpu-8'\n",
        "configs2 = config_util.get_configs_from_pipeline_file(os.path.join('Tensorflow', 'workspace','pre-trained-models', model, 'pipeline.config'))\n",
        "detection_model2 = model_builder.build(model_config=configs2['model'], is_training=False)\n",
        "\n",
        "# Restore checkpoint\n",
        "ckpt2 = tf.compat.v2.train.Checkpoint(model=detection_model2)\n",
        "\n",
        "# Load the latest checkpoint\n",
        "latest_ckpt2 = tf.train.latest_checkpoint(os.path.join('Tensorflow', 'workspace','pre-trained-models',model,'checkpoint'))\n",
        "if latest_ckpt2:\n",
        "    ckpt2.restore(latest_ckpt2).expect_partial()\n",
        "    print(f\"Checkpoint loaded: {latest_ckpt2}\")\n",
        "else:\n",
        "    raise FileNotFoundError(\"No checkpoint found in\", paths['CHECKPOINT_PATH'])\n",
        "\n",
        "@tf.function\n",
        "def detect_fn_0(image):\n",
        "    image, shapes = detection_model2.preprocess(image)\n",
        "    prediction_dict = detection_model2.predict(image, shapes)\n",
        "    detections = detection_model2.postprocess(prediction_dict, shapes)\n",
        "    return detections"
      ]
    },
    {
      "cell_type": "markdown",
      "metadata": {
        "id": "0EmsmbBZpfDI"
      },
      "source": [
        "# 9. Detect from an Image"
      ]
    },
    {
      "cell_type": "code",
      "execution_count": null,
      "metadata": {
        "id": "Y_MKiuZ4pfDI"
      },
      "outputs": [],
      "source": [
        "import cv2\n",
        "from PIL import Image\n",
        "from google.colab import files as colab_files\n",
        "import numpy as np\n",
        "from matplotlib import pyplot as plt\n",
        "%matplotlib inline"
      ]
    },
    {
      "cell_type": "code",
      "execution_count": null,
      "metadata": {
        "id": "cBDbIhNapfDI"
      },
      "outputs": [],
      "source": [
        "category_index = label_map_util.create_category_index_from_labelmap(files['LABELMAP'])"
      ]
    },
    {
      "cell_type": "code",
      "execution_count": null,
      "metadata": {
        "colab": {
          "background_save": true
        },
        "id": "Tpzn1SMry1yK"
      },
      "outputs": [],
      "source": [
        "folder_path = '/content/Tensorflow/workspace/images/test'\n",
        "\n",
        "files_ = sorted([f for f in os.listdir(folder_path) if os.path.isfile(os.path.join(folder_path, f))])\n",
        "current=1\n",
        "for i in range(0, len(files_), 2):\n",
        "  IMAGE_PATH = os.path.join(folder_path, files_[i])\n",
        "  img = cv2.imread(IMAGE_PATH)\n",
        "  image_np = np.array(img)\n",
        "\n",
        "  input_tensor = tf.convert_to_tensor(np.expand_dims(image_np, 0), dtype=tf.float32)\n",
        "  detections = detect_fn(input_tensor)\n",
        "  num_detections = int(detections.pop('num_detections'))\n",
        "  detections = {key: value[0, :num_detections].numpy()\n",
        "                for key, value in detections.items()}\n",
        "  detections['num_detections'] = num_detections\n",
        "\n",
        "  # detection_classes should be ints.\n",
        "  detections['detection_classes'] = detections['detection_classes'].astype(np.int64)\n",
        "\n",
        "  label_id_offset = 1\n",
        "  image_np_with_detections = image_np.copy()\n",
        "\n",
        "  viz_utils.visualize_boxes_and_labels_on_image_array(\n",
        "              image_np_with_detections,\n",
        "              detections['detection_boxes'],\n",
        "              detections['detection_classes']+label_id_offset,\n",
        "              detections['detection_scores'],\n",
        "              category_index,\n",
        "              use_normalized_coordinates=True,\n",
        "              min_score_thresh=.6,\n",
        "              agnostic_mode=False)\n",
        "  plt.figure(figsize=(10, 10))\n",
        "  plt.imshow(cv2.cvtColor(image_np_with_detections, cv2.COLOR_BGR2RGB))\n",
        "  plt.axis('off')\n",
        "  plt.show()\n",
        "\n",
        "  file_path = f'/content/Tensorflow/workspace/images/collectedimages/image{current}.png'\n",
        "\n",
        "  cv2.imwrite(file_path, image_np_with_detections)\n",
        "\n",
        "  current+=1"
      ]
    },
    {
      "cell_type": "code",
      "execution_count": null,
      "metadata": {
        "id": "Ga25FvpoWP7e"
      },
      "outputs": [],
      "source": [
        "folder_path = '/content/Tensorflow/workspace/images/collectedimages'\n",
        "\n",
        "zip_path = '/content/resultimages.zip'\n",
        "\n",
        "# Compress the folder\n",
        "!zip -r {zip_path} {folder_path}\n",
        "\n",
        "# Check if the zip file was created\n",
        "if os.path.exists(zip_path):\n",
        "    # Download the zip file\n",
        "    colab_files.download(zip_path)\n",
        "else:\n",
        "    print(\"Zip file was not created.\")"
      ]
    },
    {
      "cell_type": "code",
      "execution_count": null,
      "metadata": {
        "id": "TcjQHutVcfDO"
      },
      "outputs": [],
      "source": [
        "folder_path = '/content/Tensorflow/workspace/images/test'\n",
        "\n",
        "files_ = sorted([f for f in os.listdir(folder_path) if os.path.isfile(os.path.join(folder_path, f))])\n",
        "current=1\n",
        "for i in range(0, len(files_), 2):\n",
        "  IMAGE_PATH = os.path.join(folder_path, files_[i])\n",
        "  img = cv2.imread(IMAGE_PATH)\n",
        "  image_np = np.array(img)\n",
        "\n",
        "  input_tensor = tf.convert_to_tensor(np.expand_dims(image_np, 0), dtype=tf.float32)\n",
        "  detections = detect_fn(input_tensor)\n",
        "  num_detections = int(detections.pop('num_detections'))\n",
        "  detections = {key: value[0, :num_detections].numpy()\n",
        "                for key, value in detections.items()}\n",
        "  detections['num_detections'] = num_detections\n",
        "\n",
        "  # detection_classes should be ints.\n",
        "  detections['detection_classes'] = detections['detection_classes'].astype(np.int64)\n",
        "\n",
        "  label_id_offset = 1\n",
        "  image_np_with_detections = image_np.copy()\n",
        "\n",
        "  viz_utils.visualize_boxes_and_labels_on_image_array(\n",
        "              image_np_with_detections,\n",
        "              detections['detection_boxes'],\n",
        "              detections['detection_classes']+label_id_offset,\n",
        "              detections['detection_scores'],\n",
        "              category_index,\n",
        "              use_normalized_coordinates=True,\n",
        "              min_score_thresh=.6,\n",
        "              agnostic_mode=False)\n",
        "\n",
        "\n",
        "  detections2 = detect_fn_0(input_tensor)\n",
        "  num_detections2 = int(detections2.pop('num_detections'))\n",
        "  detections2 = {key: value[0, :num_detections2].numpy()\n",
        "                for key, value in detections2.items()}\n",
        "  detections2['num_detections'] = num_detections2\n",
        "\n",
        "  # detection_classes should be ints.\n",
        "  detections2['detection_classes'] = detections2['detection_classes'].astype(np.int64)\n",
        "\n",
        "  label_id_offset = 1\n",
        "  image_np_with_detections2 = image_np.copy()\n",
        "\n",
        "  viz_utils.visualize_boxes_and_labels_on_image_array(\n",
        "              image_np_with_detections2,\n",
        "              detections2['detection_boxes'],\n",
        "              detections2['detection_classes']+label_id_offset,\n",
        "              detections2['detection_scores'],\n",
        "              category_index,\n",
        "              use_normalized_coordinates=True,\n",
        "              min_score_thresh=.6,\n",
        "              agnostic_mode=False)\n",
        "\n",
        "\n",
        "\n",
        "  img=np.hstack([image_np_with_detections , image_np_with_detections2])\n",
        "  plt.figure(figsize=(10, 10))\n",
        "  plt.imshow(cv2.cvtColor(img, cv2.COLOR_BGR2RGB))\n",
        "  plt.axis('off')\n",
        "  plt.show()\n",
        "\n"
      ]
    },
    {
      "cell_type": "code",
      "execution_count": null,
      "metadata": {
        "id": "X1AAZFKdGMLv"
      },
      "outputs": [],
      "source": [
        "folder_path = '/content/Tensorflow/workspace/images/testing'\n",
        "\n",
        "files_ = sorted([f for f in os.listdir(folder_path) if os.path.isfile(os.path.join(folder_path, f))])\n",
        "current=1\n",
        "for i in range(0, len(files_)):\n",
        "  IMAGE_PATH = os.path.join(folder_path, files_[i])\n",
        "  img = cv2.imread(IMAGE_PATH)\n",
        "  image_np = np.array(img)\n",
        "\n",
        "  input_tensor = tf.convert_to_tensor(np.expand_dims(image_np, 0), dtype=tf.float32)\n",
        "  detections = detect_fn(input_tensor)\n",
        "  num_detections = int(detections.pop('num_detections'))\n",
        "  detections = {key: value[0, :num_detections].numpy()\n",
        "                for key, value in detections.items()}\n",
        "  detections['num_detections'] = num_detections\n",
        "\n",
        "  # detection_classes should be ints.\n",
        "  detections['detection_classes'] = detections['detection_classes'].astype(np.int64)\n",
        "\n",
        "  label_id_offset = 1\n",
        "  image_np_with_detections = image_np.copy()\n",
        "\n",
        "  viz_utils.visualize_boxes_and_labels_on_image_array(\n",
        "              image_np_with_detections,\n",
        "              detections['detection_boxes'],\n",
        "              detections['detection_classes']+label_id_offset,\n",
        "              detections['detection_scores'],\n",
        "              category_index,\n",
        "              use_normalized_coordinates=True,\n",
        "              min_score_thresh=.6,\n",
        "              agnostic_mode=False)\n",
        "  plt.figure(figsize=(10, 10))\n",
        "  plt.imshow(cv2.cvtColor(image_np_with_detections, cv2.COLOR_BGR2RGB))\n",
        "  plt.axis('off')\n",
        "  plt.show()\n",
        "\n",
        "  file_path = f'/content/Tensorflow/workspace/images/collectedimages/image{current}.png'\n",
        "\n",
        "  cv2.imwrite(file_path, image_np_with_detections)\n",
        "\n",
        "  current+=1"
      ]
    },
    {
      "cell_type": "markdown",
      "metadata": {
        "id": "rzlM4jt0pfDJ"
      },
      "source": [
        "# 10. Freezing the Graph"
      ]
    },
    {
      "cell_type": "code",
      "execution_count": null,
      "metadata": {
        "id": "n4olHB2npfDJ"
      },
      "outputs": [],
      "source": [
        "FREEZE_SCRIPT = os.path.join(paths['APIMODEL_PATH'], 'research', 'object_detection', 'exporter_main_v2.py ')"
      ]
    },
    {
      "cell_type": "code",
      "execution_count": null,
      "metadata": {
        "id": "0AjO93QDpfDJ"
      },
      "outputs": [],
      "source": [
        "command = \"python {} --input_type=image_tensor --pipeline_config_path={} --trained_checkpoint_dir={} --output_directory={}\".format(FREEZE_SCRIPT ,files['PIPELINE_CONFIG'], paths['CHECKPOINT_PATH'], paths['OUTPUT_PATH'])"
      ]
    },
    {
      "cell_type": "code",
      "execution_count": null,
      "metadata": {
        "id": "F6Lsp3tCpfDJ"
      },
      "outputs": [],
      "source": [
        "print(command)"
      ]
    },
    {
      "cell_type": "code",
      "execution_count": null,
      "metadata": {
        "id": "KhtPm1OGFNwF"
      },
      "outputs": [],
      "source": [
        "!{command}"
      ]
    },
    {
      "cell_type": "markdown",
      "metadata": {
        "id": "94PF1LtoFNwF"
      },
      "source": [
        "# 11. Zip and Export Models"
      ]
    },
    {
      "cell_type": "code",
      "execution_count": null,
      "metadata": {
        "id": "DghHLPHLFNwF"
      },
      "outputs": [],
      "source": [
        "!tar -czf models.tar.gz {paths['CHECKPOINT_PATH']}"
      ]
    },
    {
      "cell_type": "code",
      "execution_count": null,
      "metadata": {
        "id": "J8yeUGMsFNwF"
      },
      "outputs": [],
      "source": [
        "from google.colab import drive\n",
        "drive.mount('/content/drive')"
      ]
    }
  ],
  "metadata": {
    "accelerator": "GPU",
    "colab": {
      "provenance": [],
      "gpuType": "T4",
      "include_colab_link": true
    },
    "kernelspec": {
      "display_name": "Python 3",
      "name": "python3"
    },
    "language_info": {
      "name": "python"
    }
  },
  "nbformat": 4,
  "nbformat_minor": 0
}